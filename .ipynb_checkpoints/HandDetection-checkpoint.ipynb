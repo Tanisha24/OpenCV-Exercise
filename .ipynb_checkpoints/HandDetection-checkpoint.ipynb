{
 "cells": [
  {
   "cell_type": "code",
   "execution_count": 1,
   "metadata": {},
   "outputs": [],
   "source": [
    "import cv2\n",
    "import numpy as np\n",
    "cap=cv2.VideoCapture(0)"
   ]
  },
  {
   "cell_type": "code",
   "execution_count": 2,
   "metadata": {},
   "outputs": [],
   "source": [
    "def draw_rect(frame):\n",
    "    rows, cols, _ = frame.shape\n",
    "    global total_rectangle, hand_rect_one_x, hand_rect_one_y, hand_rect_two_x, hand_rect_two_y\n",
    "    \n",
    "    total_rectangle=9\n",
    "\n",
    "    hand_rect_one_x = np.array(\n",
    "        [6 * rows / 20, 6 * rows / 20, 6 * rows / 20, 9 * rows / 20, 9 * rows / 20, 9 * rows / 20, 12 * rows / 20,\n",
    "         12 * rows / 20, 12 * rows / 20], dtype=np.uint32)\n",
    "\n",
    "    hand_rect_one_y = np.array(\n",
    "        [9 * cols / 20, 10 * cols / 20, 11 * cols / 20, 9 * cols / 20, 10 * cols / 20, 11 * cols / 20, 9 * cols / 20,\n",
    "         10 * cols / 20, 11 * cols / 20], dtype=np.uint32)\n",
    "\n",
    "    hand_rect_two_x = hand_rect_one_x + 10\n",
    "    hand_rect_two_y = hand_rect_one_y + 10\n",
    "\n",
    "    for i in range(total_rectangle):\n",
    "        cv2.rectangle(frame, (hand_rect_one_y[i], hand_rect_one_x[i]),\n",
    "                      (hand_rect_two_y[i], hand_rect_two_x[i]),\n",
    "                      (0, 255, 0), 1)\n",
    "\n",
    "    return frame"
   ]
  },
  {
   "cell_type": "code",
   "execution_count": 3,
   "metadata": {},
   "outputs": [],
   "source": [
    "def hand_histogram(frame):\n",
    "    global hand_rect_one_x, hand_rect_two_y\n",
    "    hsv_frame=cv2.cvtColor(frame,cv2.COLOR_BGR2HSV)\n",
    "    roi=np.zeros([90,10,3], dtype=hsv_frame.dtype)\n",
    "    \n",
    "    for i in range(total_rectangle):\n",
    "        roi[i*10:i*10+10,0:10]=hsv_frame[hand_rect_one_x[i]:hand_rect_one_x[i] + 10,\n",
    "                                          hand_rect_one_y[i]:hand_rect_one_y[i] + 10]\n",
    "    hand_hist = cv2.calcHist([roi], [0, 1], None, [180, 256], [0, 180, 0, 256])\n",
    "    return cv2.normalize(hand_hist, hand_hist, 0, 255, cv2.NORM_MINMAX)"
   ]
  },
  {
   "cell_type": "code",
   "execution_count": 4,
   "metadata": {},
   "outputs": [],
   "source": [
    "def hist_masking(frame, hist):\n",
    "    hsv = cv2.cvtColor(frame, cv2.COLOR_BGR2HSV)\n",
    "    dst = cv2.calcBackProject([hsv], [0, 1], hist, [0, 180, 0, 256], 1)\n",
    "\n",
    "    disc = cv2.getStructuringElement(cv2.MORPH_ELLIPSE, (31, 31))\n",
    "    cv2.filter2D(dst, -1, disc, dst)\n",
    "\n",
    "    ret, thresh = cv2.threshold(dst, 150, 255, cv2.THRESH_BINARY)\n",
    "\n",
    "    thresh = cv2.merge((thresh, thresh, thresh))\n",
    "\n",
    "    return cv2.bitwise_and(frame, thresh)"
   ]
  },
  {
   "cell_type": "code",
   "execution_count": 13,
   "metadata": {},
   "outputs": [],
   "source": [
    "def manage_img_opr(frame,hand_hist):\n",
    "    masked_frame=hist_masking(frame,hand_hist)\n",
    "    imgray = cv2.cvtColor(masked_frame, cv2.COLOR_BGR2GRAY)\n",
    "    ret, thresh = cv2.threshold(imgray, 127, 255, 0)\n",
    "    im2, contour_list, hierarchy =cv2.findContours(thresh, cv2.RETR_TREE, cv2.CHAIN_APPROX_NONE)\n",
    "    contour_list=sorted(contour_list, key=cv2.contourArea, reverse=True)\n",
    "    max_cont=contour_list[0]\n",
    "    cnt_centroid = centroid(max_cont)\n",
    "    cv2.circle(frame, cnt_centroid, 5, [255, 0, 255], -1)\n",
    "    \n",
    "    if max_cont is not None:\n",
    "        hull=cv2.convexHull(max_cont,returnPoints=False)\n",
    "        defects = cv2.convexityDefects(max_cont, hull)\n",
    "        far_point = farthest_point(defects, max_cont, cnt_centroid)\n",
    "        print(\"Centroid : \" + str(cnt_centroid) + \", farthest Point : \" + str(far_point))\n",
    "        cv2.circle(frame, far_point, 5, [0, 0, 255], -1)\n",
    "        if len(traverse_point) < 20:\n",
    "            traverse_point.append(far_point)\n",
    "        else:\n",
    "            traverse_point.pop(0)\n",
    "            traverse_point.append(far_point)\n",
    "\n",
    "        draw_circles(frame, traverse_point)\n",
    "        return frame\n",
    "    "
   ]
  },
  {
   "cell_type": "code",
   "execution_count": 14,
   "metadata": {},
   "outputs": [
    {
     "ename": "NameError",
     "evalue": "name 'cv' is not defined",
     "output_type": "error",
     "traceback": [
      "\u001b[1;31m---------------------------------------------------------------------------\u001b[0m",
      "\u001b[1;31mNameError\u001b[0m                                 Traceback (most recent call last)",
      "\u001b[1;32m<ipython-input-14-5aaaee2b3b01>\u001b[0m in \u001b[0;36m<module>\u001b[1;34m\u001b[0m\n\u001b[0;32m      9\u001b[0m             \u001b[0mcv2\u001b[0m\u001b[1;33m.\u001b[0m\u001b[0mimshow\u001b[0m\u001b[1;33m(\u001b[0m\u001b[1;34m'Hand Detector'\u001b[0m\u001b[1;33m,\u001b[0m\u001b[0mframe\u001b[0m\u001b[1;33m)\u001b[0m\u001b[1;33m\u001b[0m\u001b[1;33m\u001b[0m\u001b[0m\n\u001b[0;32m     10\u001b[0m     \u001b[1;32melse\u001b[0m\u001b[1;33m:\u001b[0m\u001b[1;33m\u001b[0m\u001b[1;33m\u001b[0m\u001b[0m\n\u001b[1;32m---> 11\u001b[1;33m         \u001b[0mcv2\u001b[0m\u001b[1;33m.\u001b[0m\u001b[0mimshow\u001b[0m\u001b[1;33m(\u001b[0m\u001b[1;34m'Hand Detector'\u001b[0m\u001b[1;33m,\u001b[0m\u001b[0mmanage_img_opr\u001b[0m\u001b[1;33m(\u001b[0m\u001b[0mframe\u001b[0m\u001b[1;33m,\u001b[0m\u001b[0mhand_hist\u001b[0m\u001b[1;33m)\u001b[0m\u001b[1;33m)\u001b[0m\u001b[1;33m\u001b[0m\u001b[1;33m\u001b[0m\u001b[0m\n\u001b[0m\u001b[0;32m     12\u001b[0m         \u001b[1;32mif\u001b[0m \u001b[0mcv2\u001b[0m\u001b[1;33m.\u001b[0m\u001b[0mwaitKey\u001b[0m\u001b[1;33m(\u001b[0m\u001b[1;36m1\u001b[0m\u001b[1;33m)\u001b[0m\u001b[1;33m==\u001b[0m\u001b[1;36m13\u001b[0m\u001b[1;33m:\u001b[0m\u001b[1;33m\u001b[0m\u001b[1;33m\u001b[0m\u001b[0m\n\u001b[0;32m     13\u001b[0m             \u001b[1;32mbreak\u001b[0m\u001b[1;33m\u001b[0m\u001b[1;33m\u001b[0m\u001b[0m\n",
      "\u001b[1;32m<ipython-input-13-7ce235cb9107>\u001b[0m in \u001b[0;36mmanage_img_opr\u001b[1;34m(frame, hand_hist)\u001b[0m\n\u001b[0;32m      1\u001b[0m \u001b[1;32mdef\u001b[0m \u001b[0mmanage_img_opr\u001b[0m\u001b[1;33m(\u001b[0m\u001b[0mframe\u001b[0m\u001b[1;33m,\u001b[0m\u001b[0mhand_hist\u001b[0m\u001b[1;33m)\u001b[0m\u001b[1;33m:\u001b[0m\u001b[1;33m\u001b[0m\u001b[1;33m\u001b[0m\u001b[0m\n\u001b[0;32m      2\u001b[0m     \u001b[0mmasked_frame\u001b[0m\u001b[1;33m=\u001b[0m\u001b[0mhist_masking\u001b[0m\u001b[1;33m(\u001b[0m\u001b[0mframe\u001b[0m\u001b[1;33m,\u001b[0m\u001b[0mhand_hist\u001b[0m\u001b[1;33m)\u001b[0m\u001b[1;33m\u001b[0m\u001b[1;33m\u001b[0m\u001b[0m\n\u001b[1;32m----> 3\u001b[1;33m     \u001b[0mimgray\u001b[0m \u001b[1;33m=\u001b[0m \u001b[0mcv2\u001b[0m\u001b[1;33m.\u001b[0m\u001b[0mcvtColor\u001b[0m\u001b[1;33m(\u001b[0m\u001b[0mmasked_frame\u001b[0m\u001b[1;33m,\u001b[0m \u001b[0mcv\u001b[0m\u001b[1;33m.\u001b[0m\u001b[0mCOLOR_BGR2GRAY\u001b[0m\u001b[1;33m)\u001b[0m\u001b[1;33m\u001b[0m\u001b[1;33m\u001b[0m\u001b[0m\n\u001b[0m\u001b[0;32m      4\u001b[0m     \u001b[0mret\u001b[0m\u001b[1;33m,\u001b[0m \u001b[0mthresh\u001b[0m \u001b[1;33m=\u001b[0m \u001b[0mcv2\u001b[0m\u001b[1;33m.\u001b[0m\u001b[0mthreshold\u001b[0m\u001b[1;33m(\u001b[0m\u001b[0mimgray\u001b[0m\u001b[1;33m,\u001b[0m \u001b[1;36m127\u001b[0m\u001b[1;33m,\u001b[0m \u001b[1;36m255\u001b[0m\u001b[1;33m,\u001b[0m \u001b[1;36m0\u001b[0m\u001b[1;33m)\u001b[0m\u001b[1;33m\u001b[0m\u001b[1;33m\u001b[0m\u001b[0m\n\u001b[0;32m      5\u001b[0m     \u001b[0mim2\u001b[0m\u001b[1;33m,\u001b[0m \u001b[0mcontour_list\u001b[0m\u001b[1;33m,\u001b[0m \u001b[0mhierarchy\u001b[0m \u001b[1;33m=\u001b[0m\u001b[0mcv2\u001b[0m\u001b[1;33m.\u001b[0m\u001b[0mfindContours\u001b[0m\u001b[1;33m(\u001b[0m\u001b[0mthresh\u001b[0m\u001b[1;33m,\u001b[0m \u001b[0mcv2\u001b[0m\u001b[1;33m.\u001b[0m\u001b[0mRETR_TREE\u001b[0m\u001b[1;33m,\u001b[0m \u001b[0mcv2\u001b[0m\u001b[1;33m.\u001b[0m\u001b[0mCHAIN_APPROX_NONE\u001b[0m\u001b[1;33m)\u001b[0m\u001b[1;33m\u001b[0m\u001b[1;33m\u001b[0m\u001b[0m\n",
      "\u001b[1;31mNameError\u001b[0m: name 'cv' is not defined"
     ]
    }
   ],
   "source": [
    "flag=True\n",
    "while True:\n",
    "    ret,frame=cap.read()\n",
    "    if flag:\n",
    "        cv2.imshow('Hand Detector',draw_rect(frame))\n",
    "        if 'c' == chr(cv2.waitKey(1) & 255):\n",
    "            hand_hist=hand_histogram(frame)\n",
    "            flag=False\n",
    "            cv2.imshow('Hand Detector',frame)\n",
    "    else:\n",
    "        cv2.imshow('Hand Detector',manage_img_opr(frame,hand_hist))\n",
    "        if cv2.waitKey(1)==13:\n",
    "            break\n",
    "    \n",
    "#     c = cv2.waitKey(0)\n",
    "    \n",
    "cap.release()\n",
    "cv2.destroyAllWindows()"
   ]
  },
  {
   "cell_type": "code",
   "execution_count": null,
   "metadata": {},
   "outputs": [],
   "source": []
  }
 ],
 "metadata": {
  "kernelspec": {
   "display_name": "Python 3",
   "language": "python",
   "name": "python3"
  },
  "language_info": {
   "codemirror_mode": {
    "name": "ipython",
    "version": 3
   },
   "file_extension": ".py",
   "mimetype": "text/x-python",
   "name": "python",
   "nbconvert_exporter": "python",
   "pygments_lexer": "ipython3",
   "version": "3.7.3"
  }
 },
 "nbformat": 4,
 "nbformat_minor": 2
}
