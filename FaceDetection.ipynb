{
 "cells": [
  {
   "cell_type": "code",
   "execution_count": 1,
   "metadata": {},
   "outputs": [],
   "source": [
    "import cv2\n",
    "import numpy as np\n",
    "cap=cv2.VideoCapture(0)"
   ]
  },
  {
   "cell_type": "code",
   "execution_count": 2,
   "metadata": {},
   "outputs": [],
   "source": [
    "faceClassifier=cv2.CascadeClassifier('F:\\opencv-3.4\\opencv\\sources\\data\\haarcascades\\haarcascade_frontalface_default.xml')\n",
    "eyeClassifier=cv2.CascadeClassifier('F:\\opencv-3.4\\opencv\\sources\\data\\haarcascades\\haarcascade_eye.xml')\n",
    "def detectFace(frame):\n",
    "    frame_gray=cv2.cvtColor(frame,cv2.COLOR_BGR2GRAY)\n",
    "    faces=faceClassifier.detectMultiScale(frame_gray,1.3,5)\n",
    "    if faces is ():\n",
    "        return frame\n",
    "    for (x,y,w,h) in faces:\n",
    "        cv2.rectangle(frame , (x,y) ,(x+w,y+h),(127,0,255),2)\n",
    "        eyes=eyeClassifier.detectMultiScale(frame_gray)\n",
    "        if eyes is ():\n",
    "            return frame\n",
    "        for(x1,y1,w1,h1) in eyes:\n",
    "            cv2.rectangle(frame , (x1,y1) ,(x1+w1,y1+h1),(255,0,255),2)\n",
    "    return frame\n"
   ]
  },
  {
   "cell_type": "code",
   "execution_count": 3,
   "metadata": {},
   "outputs": [],
   "source": [
    "while True:\n",
    "    ret,frame=cap.read()\n",
    "    cv2.imshow('Our Face Detector',detectFace(frame))\n",
    "    if cv2.waitKey(1)==13:\n",
    "        break\n",
    "cap.release()\n",
    "cv2.destroyAllWindows()"
   ]
  },
  {
   "cell_type": "code",
   "execution_count": null,
   "metadata": {},
   "outputs": [],
   "source": []
  }
 ],
 "metadata": {
  "kernelspec": {
   "display_name": "Python 3",
   "language": "python",
   "name": "python3"
  },
  "language_info": {
   "codemirror_mode": {
    "name": "ipython",
    "version": 3
   },
   "file_extension": ".py",
   "mimetype": "text/x-python",
   "name": "python",
   "nbconvert_exporter": "python",
   "pygments_lexer": "ipython3",
   "version": "3.7.3"
  }
 },
 "nbformat": 4,
 "nbformat_minor": 2
}
